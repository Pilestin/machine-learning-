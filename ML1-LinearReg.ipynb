{
  "cells": [
    {
      "cell_type": "markdown",
      "metadata": {
        "id": "view-in-github",
        "colab_type": "text"
      },
      "source": [
        "<a href=\"https://colab.research.google.com/github/logaritmabir/collab/blob/main/ML1-LinearReg.ipynb\" target=\"_parent\"><img src=\"https://colab.research.google.com/assets/colab-badge.svg\" alt=\"Open In Colab\"/></a>"
      ]
    },
    {
      "cell_type": "markdown",
      "source": [
        "Kadir Emre ÖZER - 19060374 - Makine Öğrenimine Giriş(TS7) - Proje-1: Regresyon(Doğrusal Bağlanım)\n"
      ],
      "metadata": {
        "id": "qWL3aLJU49lL"
      }
    },
    {
      "cell_type": "markdown",
      "source": [
        "Adım 1 : Verilerin algoritmaya verilmeden önce işlenmesi(normalizasyon ve ayıklama)\n",
        "\n",
        "Verilerin .cvs uzantılı dosyadan \"data\" değişkenine aktarılması,başlangıç için rastgele teta katsayılarının verilmesi,öğrenme katsayısının atanması(alfa),veriler içerisinde \"NULL\" olup olmadığı testi ve verilerin min-max normalizasyonu yapılmıştır.\n",
        "\n",
        "(Normalizasyon için min-max normalizasyonu tercih edilmiştir.Kendim max normalizasyonunu tabloya uyguladığım zaman algoritmanın hızı yaklaşık 10 kat düştüğü için kütüphane fonksiyonunu kullanmayı tercih ettim)"
      ],
      "metadata": {
        "id": "Tb95j1g_wdEb"
      }
    },
    {
      "cell_type": "code",
      "execution_count": null,
      "metadata": {
        "colab": {
          "base_uri": "https://localhost:8080/"
        },
        "id": "WLo2EZDbtEvW",
        "outputId": "a5496a18-4229-4592-fc62-a26d5d9259dd"
      },
      "outputs": [
        {
          "output_type": "stream",
          "name": "stdout",
          "text": [
            "<class 'pandas.core.frame.DataFrame'>\n",
            "RangeIndex: 21613 entries, 0 to 21612\n",
            "Data columns (total 3 columns):\n",
            " #   Column       Non-Null Count  Dtype  \n",
            "---  ------       --------------  -----  \n",
            " 0   sqft_living  21613 non-null  float64\n",
            " 1   sqft_lot     21613 non-null  float64\n",
            " 2   price        21613 non-null  float64\n",
            "dtypes: float64(3)\n",
            "memory usage: 506.7 KB\n",
            "       sqft_living  sqft_lot     price\n",
            "0         0.067170  0.003108  0.019266\n",
            "1         0.172075  0.004072  0.060721\n",
            "2         0.036226  0.005743  0.013770\n",
            "3         0.126038  0.002714  0.069377\n",
            "4         0.104906  0.004579  0.057049\n",
            "...            ...       ...       ...\n",
            "21608     0.093585  0.000370  0.037377\n",
            "21609     0.152453  0.003206  0.042623\n",
            "21610     0.055094  0.000503  0.042898\n",
            "21611     0.098868  0.001132  0.042623\n",
            "21612     0.055094  0.000337  0.032787\n",
            "\n",
            "[21613 rows x 3 columns]\n"
          ]
        }
      ],
      "source": [
        "import pandas as pd\n",
        "import matplotlib.pyplot as plt\n",
        "from sklearn.preprocessing import MinMaxScaler\n",
        "\n",
        "data  = pd.read_csv(\"kc_house_data.csv\")[['sqft_living','sqft_lot','price']]\n",
        "\n",
        "Q0,Q1,Q2, = 100,100,100 #Başlangıç teta değerleri\n",
        "m = len(data)\n",
        "alfa = 0.03\n",
        "\n",
        "scaler = MinMaxScaler()\n",
        "scaled_data = scaler.fit_transform(data)\n",
        "\n",
        "data = pd.DataFrame(scaled_data,columns=['sqft_living','sqft_lot','price'])\n",
        "\n",
        "# max_sqft_living = data.max(0)[0] # kolonların en büyük değerlerin çıkarılması\n",
        "# max_sqft_lot = data.max(0)[1]\n",
        "# max_price = data.max(0)[2]\n",
        "\n",
        "\n",
        "# for i in range(m): # Verilerin normalleştirilmesi \n",
        "#      data.at[i,'sqft_living'] = data.values[i][0] / max_sqft_living\n",
        "#      data.at[i,'sqft_lot'] = data.values[i][1] / max_sqft_lot\n",
        "#      data.at[i,'price'] = data.values[i][2] / max_price\n",
        "\n",
        "data.info()\n",
        "print(data)\n",
        "\n"
      ]
    },
    {
      "cell_type": "markdown",
      "source": [
        "Tahmin Fonksiyonu: Hteta(x)"
      ],
      "metadata": {
        "id": "99PV885txL0w"
      }
    },
    {
      "cell_type": "code",
      "execution_count": null,
      "metadata": {
        "id": "vCHQwnectEvY"
      },
      "outputs": [],
      "source": [
        "def prediction(x1,x2): # Hteta(x) hipotezi\n",
        "    return Q0 + (Q1*x1) + (Q2*x2)"
      ]
    },
    {
      "cell_type": "markdown",
      "source": [
        "Maliyet Fonksiyonu : J(teta0,teta1,teta2)"
      ],
      "metadata": {
        "id": "khFWJmTax21D"
      }
    },
    {
      "cell_type": "code",
      "execution_count": null,
      "metadata": {
        "id": "NxpymL1wtEvZ"
      },
      "outputs": [],
      "source": [
        "def cost_function(): # Maliyet fonksiyonu\n",
        "    total_differency = 0\n",
        "    for i in range(m):\n",
        "        iteration_differency = (data.values[i][2] - prediction(data.values[i][0],data.values[i][1]))**2 # Tüm örnekler için(26 bin) (y - tahmin)**2 hesabı \n",
        "        total_differency +=  iteration_differency\n",
        "    cost = total_differency / (2*m)\n",
        "    return cost"
      ]
    },
    {
      "cell_type": "markdown",
      "source": [
        "Gradient Descent Algoritması : \n",
        "\n",
        "Algoritma her çalıştığında teta parametrelerine azaltma veya artırma işlemi uygulayacaktır.\n"
      ],
      "metadata": {
        "id": "Uu0WMk1Wx4zw"
      }
    },
    {
      "cell_type": "code",
      "execution_count": null,
      "metadata": {
        "id": "OsegR00ltEvZ"
      },
      "outputs": [],
      "source": [
        "def gradient_descent():\n",
        "    global Q0,Q1,Q2 #Anlık tetaların dahil edilmesi\n",
        "\n",
        "    total_differencyQ0 = 0  \n",
        "    total_differencyQ1 = 0\n",
        "    total_differencyQ2 = 0 \n",
        "\n",
        "    Q0pre,Q1pre,Q2pre = 0,0,0\n",
        "\n",
        "    for i in range(m): \n",
        "        iteration_differencyQ0 = (prediction(data.values[i][0],data.values[i][1]) - data.values[i][2]) # 0' dan m'ye kadar Teta0 için hata oranlarının hesaplanması \n",
        "        total_differencyQ0 =  total_differencyQ0 + iteration_differencyQ0 # Teta0 için hata oranlarının toplanması\n",
        "\n",
        "        iteration_differencyQ1 = (prediction(data.values[i][0],data.values[i][1]) - data.values[i][2] ) * data.values[i][0] # Teta1 için aynı işlemler\n",
        "        total_differencyQ1 =  total_differencyQ1 +  iteration_differencyQ1\n",
        "\n",
        "        iteration_differencyQ2 = (prediction(data.values[i][0],data.values[i][1]) - data.values[i][2]) * data.values[i][1] # Teta2 için aynı işlemler\n",
        "        total_differencyQ2 = total_differencyQ2 + iteration_differencyQ2\n",
        "    \n",
        "    Q0pre = Q0 - (alfa * (1/m) * total_differencyQ0) # Yeni Teta0 değeri hesabı\n",
        "    Q1pre = Q1 - (alfa * (1/m) * total_differencyQ1) # Yeni Teta1 değeri hesabı\n",
        "    Q2pre = Q2 - (alfa * (1/m) * total_differencyQ2) # Yeni Teta2 değeri hesabı\n",
        "\n",
        "    Q0 = Q0pre # Tetaların aynı anda değiştirilmesi\n",
        "    Q1 = Q1pre\n",
        "    Q2 = Q2pre\n",
        "\n",
        "    print(\"Yeni teta değerleri  : \" ,Q0,Q1,Q2)"
      ]
    },
    {
      "cell_type": "markdown",
      "source": [
        "Adım 2 : Gradient Descent Algoritması'nın Sınanması\n",
        "Algoritmanın çalışıp çalışmadığını test etmek için ilk 150 veri üzerinde Maliyet Fonksiyonu iyileştirmesi denenmiştir.\n",
        "\n",
        "Her for döngüsünde Maliyet fonksiyonunun değeri hesaplanacak ve teta parametreleri yeniden düzenlecektir.\n",
        "\n",
        "Maliyet Fonksiyonunun her adımdaki değeri \"graph\" değişkeni içerisinde tutulup daha sonra görsel çıktı üzerinde yorumlanacaktır.\n",
        "\n",
        "\n"
      ],
      "metadata": {
        "id": "ngjipKWozF-p"
      }
    },
    {
      "cell_type": "code",
      "execution_count": null,
      "metadata": {
        "id": "2jBd_9V4tEva",
        "colab": {
          "base_uri": "https://localhost:8080/",
          "height": 5490
        },
        "outputId": "4d58b481-cc95-4252-c2fa-2fe2820bdb2b"
      },
      "outputs": [
        {
          "output_type": "stream",
          "name": "stdout",
          "text": [
            "Yeni teta değerleri  :  96.57006125718625 99.52141566646348 99.96690577944943\n",
            "Yeni maliyet fonksiyonu 6565.753932785932\n",
            "Yeni teta değerleri  :  93.24496896175594 99.05706398065406 99.93474293222067\n",
            "Yeni maliyet fonksiyonu 6172.040987699868\n",
            "Yeni teta değerleri  :  90.02151979412304 98.60651015663544 99.90348300755967\n",
            "Yeni maliyet fonksiyonu 5802.017945401432\n",
            "Yeni teta değerleri  :  86.89660830384594 98.16933269222291 99.87309842395098\n",
            "Yeni maliyet fonksiyonu 5454.259351935384\n",
            "Yeni teta değerleri  :  83.86722391948864 97.74512296313267 99.84356244256043\n",
            "Yeni maliyet fonksiyonu 5127.425524872753\n",
            "Yeni teta değerleri  :  80.93044804983833 97.33348482953092 99.81484914148915\n",
            "Yeni maliyet fonksiyonu 4820.257392319751\n",
            "Yeni teta değerleri  :  78.08345127368761 96.93403425460369 99.78693339081427\n",
            "Yeni maliyet fonksiyonu 4531.571642471261\n",
            "Yeni teta değerleri  :  75.32349061547559 96.54639893478051 99.7597908283921\n",
            "Yeni maliyet fonksiyonu 4260.256165021929\n",
            "Yeni teta değerleri  :  72.64790690416486 96.17021794125542 99.73339783640064\n",
            "Yeni maliyet fonksiyonu 4005.2657668737925\n",
            "Yeni teta değerleri  :  70.054122212811 95.80514137246047 99.70773151859876\n",
            "Yeni maliyet fonksiyonu 3765.618145636079\n",
            "Yeni teta değerleri  :  67.53963737635954 95.45083001715706 99.68276967828018\n",
            "Yeni maliyet fonksiyonu 3540.3901054046173\n",
            "Yeni teta değerleri  :  65.10202958528012 95.10695502782052 99.65849079690095\n",
            "Yeni maliyet fonksiyonu 3328.7140002431947\n",
            "Yeni teta değerleri  :  62.738950052721066 94.77319760400363 99.63487401335996\n",
            "Yeni maliyet fonksiyonu 3129.774391665657\n",
            "Yeni teta değerleri  :  60.448121752937865 94.44924868537423 99.61189910391255\n",
            "Yeni maliyet fonksiyonu 2942.804907241724\n",
            "Yeni teta değerleri  :  58.22733722881816 94.13480865413113 99.58954646269761\n",
            "Yeni maliyet fonksiyonu 2767.085288224915\n",
            "Yeni teta değerleri  :  56.07445646639222 93.82958704651206 99.56779708285985\n",
            "Yeni maliyet fonksiyonu 2601.9386148286117\n",
            "Yeni teta değerleri  :  53.98740483428217 93.53330227311565 99.54663253824869\n",
            "Yeni maliyet fonksiyonu 2446.728698461393\n",
            "Yeni teta değerleri  :  51.964171086105985 93.24568134776833 99.52603496567629\n",
            "Yeni maliyet fonksiyonu 2300.8576308748234\n",
            "Yeni teta değerleri  :  50.002805423913024 92.96645962467493 99.50598704771775\n",
            "Yeni maliyet fonksiyonu 2163.7634807825857\n",
            "Yeni teta değerleri  :  48.10141762078605 92.6953805436 99.48647199603671\n",
            "Yeni maliyet fonksiyonu 2034.918129077191\n",
            "Yeni teta değerleri  :  46.2581752008025 92.43219538283446 99.46747353522039\n",
            "Yeni maliyet fonksiyonu 1913.8252343045467\n",
            "Yeni teta değerleri  :  44.471301674602195 92.17666301970974 99.44897588710856\n",
            "Yeni maliyet fonksiyonu 1800.018320558919\n",
            "Yeni teta değerleri  :  42.73907482886275 91.92854969842867 99.43096375560128\n",
            "Yeni maliyet fonksiyonu 1693.0589804317237\n",
            "Yeni teta değerleri  :  41.05982506803572 91.68762880498986 99.4134223119308\n",
            "Yeni maliyet fonksiyonu 1592.5351860915227\n",
            "Yeni teta değerleri  :  39.43193380674656 91.45368064898857 99.39633718038341\n",
            "Yeni maliyet fonksiyonu 1498.0597019884244\n",
            "Yeni teta değerleri  :  37.853831911310756 91.22649225208414 99.37969442445755\n",
            "Yeni maliyet fonksiyonu 1409.2685930684777\n",
            "Yeni teta değerleri  :  36.32399818886534 91.00585714293025 99.36348053344484\n",
            "Yeni maliyet fonksiyonu 1325.8198227507444\n",
            "Yeni teta değerleri  :  34.84095792266113 90.79157515837049 99.34768240942105\n",
            "Yeni maliyet fonksiyonu 1247.391935266041\n",
            "Yeni teta değerleri  :  33.40328145210532 90.583452250708 99.33228735463456\n",
            "Yeni maliyet fonksiyonu 1173.6828172811738\n",
            "Yeni teta değerleri  :  32.00958279618711 90.38130030086339 99.31728305928011\n",
            "Yeni maliyet fonksiyonu 1104.4085340379231\n",
            "Yeni teta değerleri  :  30.658518318961164 90.18493693724116 99.30265758964615\n",
            "Yeni maliyet fonksiyonu 1039.302235523221\n",
            "Yeni teta değerleri  :  29.34878543580361 89.99418536013026 99.28839937662416\n",
            "Yeni maliyet fonksiyonu 978.1131284564653\n",
            "Yeni teta değerleri  :  28.079121359195156 89.8088741714695 99.27449720456927\n",
            "Yeni maliyet fonksiyonu 920.6055101338833\n",
            "Yeni teta değerleri  :  26.848301882823467 89.62883720981415 99.26094020050103\n",
            "Yeni maliyet fonksiyonu 866.5578604077175\n",
            "Yeni teta değerleri  :  25.655140202834243 89.45391339034468 99.24771782363419\n",
            "Yeni maliyet fonksiyonu 815.761988302318\n",
            "Yeni teta değerleri  :  24.498485775095805 89.2839465497636 99.23481985522933\n",
            "Yeni maliyet fonksiyonu 768.0222299795381\n",
            "Yeni teta değerleri  :  23.37722320737715 89.11878529593108 99.22223638875363\n",
            "Yeni maliyet fonksiyonu 723.1546949636187\n",
            "Yeni teta değerleri  :  22.29027118537251 88.95828286209458 99.20995782034213\n",
            "Yeni maliyet fonksiyonu 680.9865577217364\n",
            "Yeni teta değerleri  :  21.236581431538525 88.80229696557211 99.19797483955054\n",
            "Yeni maliyet fonksiyonu 641.3553918712338\n",
            "Yeni teta değerleri  :  20.215137695741404 88.65068967075305 99.18627842039055\n",
            "Yeni maliyet fonksiyonu 604.1085444483555\n",
            "Yeni teta değerleri  :  19.22495477674232 88.50332725628463 99.17485981263897\n",
            "Yeni maliyet fonksiyonu 569.1025478282619\n",
            "Yeni teta değerleri  :  18.2650775735787 88.3600800863162 99.16371053341246\n",
            "Yeni maliyet fonksiyonu 536.2025670304906\n",
            "Yeni teta değerleri  :  17.334580165928195 88.22082248567726 99.15282235899964\n",
            "Yeni maliyet fonksiyonu 505.28188028089363\n",
            "Yeni teta değerleri  :  16.432564922569675 88.08543261886913 99.14218731694282\n",
            "Yeni maliyet fonksiyonu 476.2213908288304\n",
            "Yeni teta değerleri  :  15.558161637082945 87.95379237275374 99.1317976783615\n",
            "Yeni maliyet fonksiyonu 448.9091681390273\n",
            "Yeni teta değerleri  :  14.710526689954879 87.82578724282646 99.12164595051055\n",
            "Yeni maliyet fonksiyonu 423.2400166905219\n",
            "Yeni teta değerleri  :  13.888842236285253 87.70130622296377 99.11172486956573\n",
            "Yeni maliyet fonksiyonu 399.1150707215904\n",
            "Yeni teta değerleri  :  13.092315418310159 87.58024169853911 99.10202739362956\n",
            "Yeni maliyet fonksiyonu 376.44141335942413\n",
            "Yeni teta değerleri  :  12.320177601984646 87.46248934280462 99.09254669595092\n",
            "Yeni maliyet fonksiyonu 355.1317186672975\n",
            "Yeni teta değerleri  :  11.57168363688968 87.34794801643841 99.08327615835184\n",
            "Yeni maliyet fonksiyonu 335.1039152302376\n",
            "Yeni teta değerleri  :  10.846111138750707 87.23651967016106 99.07420936485508\n",
            "Yeni maliyet fonksiyonu 316.28086998324005\n",
            "Yeni teta değerleri  :  10.142759793877001 87.12810925032734 99.0653400955064\n",
            "Yeni maliyet fonksiyonu 298.59009106393216\n",
            "Yeni teta değerleri  :  9.460950684852046 87.02262460740236 99.0566623203856\n",
            "Yeni maliyet fonksiyonu 281.9634485450451\n",
            "Yeni teta değerleri  :  8.800025636825769 86.91997640723402 99.04817019380047\n",
            "Yeni maliyet fonksiyonu 266.3369119707629\n",
            "Yeni teta değerleri  :  8.159346583779044 86.82007804503623 99.03985804865827\n",
            "Yeni maliyet fonksiyonu 251.65030368588288\n",
            "Yeni teta değerleri  :  7.538294954150412 86.72284556200022 99.031720391009\n",
            "Yeni maliyet fonksiyonu 237.8470670075111\n",
            "Yeni teta değerleri  :  6.936271075233331 86.62819756445356 99.02375189475553\n",
            "Yeni maliyet fonksiyonu 224.87404834616356\n",
            "Yeni teta değerleri  :  6.352693595770577 86.53605514548903 99.01594739652525\n",
            "Yeni maliyet fonksiyonu 212.68129243695736\n",
            "Yeni teta değerleri  :  5.786998926189737 86.44634180898797 99.00830189069846\n",
            "Yeni maliyet fonksiyonu 201.2218498920217\n",
            "Yeni teta değerleri  :  5.238640695940906 86.35898339596483 99.00081052458866\n",
            "Yeni maliyet fonksiyonu 190.45159633273465\n",
            "Yeni teta değerleri  :  4.707089227413961 86.27390801316216 98.99346859377002\n",
            "Yeni maliyet fonksiyonu 180.32906240503382\n",
            "Yeni teta değerleri  :  4.191831025929001 86.19104596382712 98.98627153754771\n",
            "Yeni maliyet fonksiyonu 170.81527402293247\n",
            "Yeni teta değerleri  :  3.692368285308759 86.110329680603 98.97921493456656\n",
            "Yeni maliyet fonksiyonu 161.8736022248058\n",
            "Yeni teta değerleri  :  3.208218408556998 86.03169366047099 98.97229449855385\n",
            "Yeni maliyet fonksiyonu 153.46962206403302\n",
            "Yeni teta değerleri  :  2.738913543181324 85.95507440167971 98.96550607419228\n",
            "Yeni maliyet fonksiyonu 145.57097999037632\n",
            "Yeni teta değerleri  :  2.284000130713025 85.88041034260162 98.95884563311893\n",
            "Yeni maliyet fonksiyonu 138.1472692112143\n",
            "Yeni teta değerleri  :  1.8430384699901425 85.80764180245762 98.95230927004651\n",
            "Yeni maliyet fonksiyonu 131.16991255245793\n",
            "Yeni teta değerleri  :  1.4156022937833137 85.73671092385254 98.94589319900311\n",
            "Yeni maliyet fonksiyonu 124.61205236788014\n",
            "Yeni teta değerleri  :  1.0012783583567253 85.66756161706637 98.9395937496868\n",
            "Yeni maliyet fonksiyonu 118.44844707276482\n",
            "Yeni teta değerleri  :  0.5996660455689364 85.60013950604754 98.93340736393162\n",
            "Yeni maliyet fonksiyonu 112.65537390325437\n",
            "Yeni teta değerleri  :  0.21037697713052844 85.5343918760562 98.92733059228166\n",
            "Yeni maliyet fonksiyonu 107.2105375268153\n",
            "Yeni teta değerleri  :  -0.166965359352928 85.47026762290714 98.92136009066957\n",
            "Yeni maliyet fonksiyonu 102.09298415172682\n",
            "Yeni teta değerleri  :  -0.5327259729125844 85.40771720376347 98.91549261719676\n",
            "Yeni maliyet fonksiyonu 97.28302080472703\n",
            "Yeni teta değerleri  :  -0.8872587206718385 85.34669258943364 98.9097250290119\n",
            "Yeni maliyet fonksiyonu 92.76213946582683\n",
            "Yeni teta değerleri  :  -1.230906648564006 85.28714721812597 98.90405427928472\n",
            "Yeni maliyet fonksiyonu 88.51294576804308\n",
            "Yeni teta değerleri  :  -1.5640023216402776 85.22903595061597 98.89847741427246\n",
            "Yeni maliyet fonksiyonu 84.51909198736865\n",
            "Yeni teta değerleri  :  -1.8868681442859587 85.17231502678354 98.8929915704757\n",
            "Yeni maliyet fonksiyonu 80.76521406481464\n",
            "Yeni teta değerleri  :  -2.1998166706533335 85.116942023478 98.88759397188126\n",
            "Yeni maliyet fonksiyonu 77.23687241794451\n",
            "Yeni teta değerleri  :  -2.503150905610045 85.06287581367044 98.8822819272893\n",
            "Yeni maliyet fonksiyonu 73.92049631383682\n",
            "Yeni teta değerleri  :  -2.797164596492784 85.01007652685405 98.87705282772203\n",
            "Yeni maliyet fonksiyonu 70.80333158922022\n",
            "Yeni teta değerleri  :  -3.0821425159472122 84.95850551065438 98.87190414391164\n",
            "Yeni maliyet fonksiyonu 67.87339151635388\n",
            "Yeni teta değerleri  :  -3.3583607361264196 84.9081252936124 98.866833423865\n",
            "Yeni maliyet fonksiyonu 65.11941062537126\n",
            "Yeni teta değerleri  :  -3.6260868945119573 84.85889954910478 98.86183829050269\n",
            "Yeni maliyet fonksiyonu 62.53080130520787\n",
            "Yeni teta değerleri  :  -3.88558045161343 84.81079306036628 98.85691643937022\n",
            "Yeni maliyet fonksiyonu 60.09761301589593\n",
            "Yeni teta değerleri  :  -4.137092940794699 84.76377168658101 98.85206563641918\n",
            "Yeni maliyet fonksiyonu 57.81049395512891\n",
            "Yeni teta değerleri  :  -4.380868210467332 84.71780233000953 98.84728371585612\n",
            "Yeni maliyet fonksiyonu 55.660655031384046\n",
            "Yeni teta değerleri  :  -4.617142658884425 84.67285290412036 98.84256857805725\n",
            "Yeni maliyet fonksiyonu 53.63983600484662\n",
            "Yeni teta değerleri  :  -4.846145461760929 84.62889230269514 98.83791818754679\n",
            "Yeni maliyet fonksiyonu 51.74027366567123\n",
            "Yeni teta değerleri  :  -5.068098792939616 84.58589036987767 98.83333057103702\n",
            "Yeni maliyet fonksiyonu 49.95467192700522\n",
            "Yeni teta değerleri  :  -5.283218038315177 84.54381787113813 98.8288038155284\n",
            "Yeni maliyet fonksiyonu 48.27617371755666\n",
            "Yeni teta değerleri  :  -5.491712003222404 84.50264646512424 98.82433606646754\n",
            "Yeni maliyet fonksiyonu 46.698334565422556\n",
            "Yeni teta değerleri  :  -5.6937831134881876 84.46234867637261 98.81992552596152\n",
            "Yeni maliyet fonksiyonu 45.21509777141474\n",
            "Yeni teta değerleri  :  -5.889627610340864 84.42289786885371 98.81557045104687\n",
            "Yeni maliyet fonksiyonu 43.820771076246146\n",
            "Yeni teta değerleri  :  -6.079435739364637 84.38426822032514 98.81126915201122\n",
            "Yeni maliyet fonksiyonu 42.51000473167531\n",
            "Yeni teta değerleri  :  -6.263391933680965 84.34643469746848 98.80701999076646\n",
            "Yeni maliyet fonksiyonu 41.277770891149046\n",
            "Yeni teta değerleri  :  -6.441674991533333 84.30937303178575 98.80282137927142\n",
            "Yeni maliyet fonksiyonu 40.11934424053366\n",
            "Yeni teta değerleri  :  -6.61445824844636 84.27305969623234 98.79867177800283\n",
            "Yeni maliyet fonksiyonu 39.03028379432204\n",
            "Yeni teta değerleri  :  -6.781909744125056 84.23747188256375 98.79456969447301\n",
            "Yeni maliyet fonksiyonu 38.00641578719075\n",
            "Yeni teta değerleri  :  -6.9441923842548805 84.20258747937459 98.79051368179279\n",
            "Yeni maliyet fonksiyonu 37.04381759499235\n",
            "Yeni teta değerleri  :  -7.1014640973584315 84.16838505080838 98.78650233727839\n",
            "Yeni maliyet fonksiyonu 36.13880262324561\n",
            "Yeni teta değerleri  :  -7.253877986859785 84.134843815918 98.78253430110081\n",
            "Yeni maliyet fonksiyonu 35.28790610490717\n",
            "Yeni teta değerleri  :  -7.401582478502892 84.10194362865656 98.77860825497655\n",
            "Yeni maliyet fonksiyonu 34.487871752705416\n",
            "Yeni teta değerleri  :  -7.544721463265998 84.06966495847966 98.77472292089823\n",
            "Yeni maliyet fonksiyonu 33.735639214631064\n",
            "Yeni teta değerleri  :  -7.683434435909678 84.03798887154039 98.77087705990415\n",
            "Yeni maliyet fonksiyonu 33.02833228423814\n",
            "Yeni teta değerleri  :  -7.817856629291894 84.00689701245867 98.76706947088527\n",
            "Yeni maliyet fonksiyonu 32.36324782035452\n",
            "Yeni teta değerleri  :  -7.948119144579402 83.97637158664777 98.76329898942878\n",
            "Yeni maliyet fonksiyonu 31.73784533350562\n",
            "Yeni teta değerleri  :  -8.074349077480893 83.94639534318071 98.75956448669686\n",
            "Yeni maliyet fonksiyonu 31.149737198938627\n",
            "Yeni teta değerleri  :  -8.1966696406234 83.9169515581801 98.75586486833988\n",
            "Yeni maliyet fonksiyonu 30.596679458539427\n",
            "Yeni teta değerleri  :  -8.315200282189812 83.88802401871558 98.75219907344264\n",
            "Yeni maliyet fonksiyonu 30.076563176216297\n",
            "Yeni teta değerleri  :  -8.43005680093173 83.85959700719309 98.74856607350286\n",
            "Yeni maliyet fonksiyonu 29.58740631343745\n",
            "Yeni teta değerleri  :  -8.541351457668394 83.83165528622115 98.74496487144094\n",
            "Yeni maliyet fonksiyonu 29.1273460936303\n",
            "Yeni teta değerleri  :  -8.649193083379062 83.80418408393959 98.74139450063987\n",
            "Yeni maliyet fonksiyonu 28.694631826025464\n",
            "Yeni teta değerleri  :  -8.753687183992888 83.77716907979637 98.73785402401455\n",
            "Yeni maliyet fonksiyonu 28.287618161299505\n",
            "Yeni teta değerleri  :  -8.854936041977233 83.75059639075904 98.73434253310953\n",
            "Yeni maliyet fonksiyonu 27.904758753035193\n",
            "Yeni teta değerleri  :  -8.9530388148222 83.72445255794752 98.73085914722424\n",
            "Yeni maliyet fonksiyonu 27.544600300581546\n",
            "Yeni teta değerleri  :  -9.048091630516234 83.69872453367512 98.7274030125651\n",
            "Yeni maliyet fonksiyonu 27.205776950359244\n",
            "Yeni teta değerleri  :  -9.140187680104699 83.67339966888568 98.72397330142341\n",
            "Yeni maliyet fonksiyonu 26.887005034054\n",
            "Yeni teta değerleri  :  -9.229417307420583 83.64846570097443 98.72056921137836\n",
            "Yeni maliyet fonksiyonu 26.58707812341174\n",
            "Yeni teta değerleri  :  -9.315868096073705 83.62391074198094 98.71718996452448\n",
            "Yeni maliyet fonksiyonu 26.304862382601236\n",
            "Yeni teta değerleri  :  -9.399624953782196 83.59972326714283 98.7138348067226\n",
            "Yeni maliyet fonksiyonu 26.03929220022656\n",
            "Yeni teta değerleri  :  -9.480770194127443 83.57589210379925 98.71050300687375\n",
            "Yeni maliyet fonksiyonu 25.789366084169366\n",
            "Yeni teta değerleri  :  -9.559383615811228 83.55240642063325 98.7071938562152\n",
            "Yeni maliyet fonksiyonu 25.554142803443625\n",
            "Yeni teta değerleri  :  -9.635542579491375 83.52925571724295 98.70390666763808\n",
            "Yeni maliyet fonksiyonu 25.332737762199947\n",
            "Yeni teta değerleri  :  -9.709322082269862 83.5064298140313 98.70064077502578\n",
            "Yeni maliyet fonksiyonu 25.12431959191265\n",
            "Yeni teta değerleri  :  -9.78079482990517 83.4839188424047 98.69739553261255\n",
            "Yeni maliyet fonksiyonu 24.928106948616872\n",
            "Yeni teta değerleri  :  -9.85003130681835 83.46171323527108 98.6941703143618\n",
            "Yeni maliyet fonksiyonu 24.74336550286353\n",
            "Yeni teta değerleri  :  -9.91709984396024 83.43980371782831 98.69096451336327\n",
            "Yeni maliyet fonksiyonu 24.569405110789784\n",
            "Yeni teta değerleri  :  -9.982066684605181 83.41818129863405 98.6877775412487\n",
            "Yeni maliyet fonksiyonu 24.40557715541253\n",
            "Yeni teta değerleri  :  -10.044996048134568 83.39683726094843 98.68460882762534\n",
            "Yeni maliyet fonksiyonu 24.25127204789852\n",
            "Yeni teta değerleri  :  -10.105950191871663 83.37576315434121 98.68145781952671\n",
            "Yeni maliyet fonksiyonu 24.105916879186196\n",
            "Yeni teta değerleri  :  -10.164989471027216 83.35495078655539 98.67832398088022\n",
            "Yeni maliyet fonksiyonu 23.96897321291515\n",
            "Yeni teta değerleri  :  -10.222172396813574 83.33439221561937 98.67520679199104\n",
            "Yeni maliyet fonksiyonu 23.83993501115492\n",
            "Yeni teta değerleri  :  -10.2775556927833 83.31407974220019 98.67210574904166\n",
            "Yeni maliyet fonksiyonu 23.7183266849459\n",
            "Yeni teta değerleri  :  -10.331194349446482 83.29400590219026 98.66902036360686\n",
            "Yeni maliyet fonksiyonu 23.6037012621455\n",
            "Yeni teta değerleri  :  -10.383141677219365 83.27416345952072 98.6659501621834\n",
            "Yeni maliyet fonksiyonu 23.495638665513248\n",
            "Yeni teta değerleri  :  -10.433449357755276 83.25454539919427 98.66289468573414\n",
            "Yeni maliyet fonksiyonu 23.393744094407133\n",
            "Yeni teta değerleri  :  -10.482167493707257 83.23514492053091 98.65985348924605\n",
            "Yeni maliyet fonksiyonu 23.297646503856807\n",
            "Yeni teta değerleri  :  -10.529344656970338 83.21595543062004 98.65682614130172\n",
            "Yeni maliyet fonksiyonu 23.206997175152196\n",
            "Yeni teta değerleri  :  -10.575027935449883 83.1969705379726 98.65381222366405\n",
            "Yeni maliyet fonksiyonu 23.12146837244109\n",
            "Yeni teta değerleri  :  -10.619262978401064 83.17818404636716 98.6508113308735\n",
            "Yeni maliyet fonksiyonu 23.04075208016192\n",
            "Yeni teta değerleri  :  -10.662094040383087 83.159589948884 98.64782306985771\n",
            "Yeni maliyet fonksiyonu 22.964558816446658\n",
            "Yeni teta değerleri  :  -10.703564023870523 83.14118242212153 98.64484705955307\n",
            "Yeni maliyet fonksiyonu 22.89261651792348\n",
            "Yeni teta değerleri  :  -10.74371452056276 83.12295582058933 98.6418829305378\n",
            "Yeni maliyet fonksiyonu 22.824669491621552\n",
            "Yeni teta değerleri  :  -10.78258585143134 83.10490467127254 98.63893032467628\n",
            "Yeni maliyet fonksiyonu 22.760477429941115\n",
            "Yeni teta değerleri  :  -10.82021710554377 83.08702366836235 98.6359888947742\n",
            "Yeni maliyet fonksiyonu 22.699814484895104\n",
            "Yeni teta değerleri  :  -10.856646177701156 83.06930766814743 98.63305830424432\n",
            "Yeni maliyet fonksiyonu 22.642468398053833\n",
            "Yeni teta değerleri  :  -10.891909804925927 83.05175168406146 98.63013822678235\n",
            "Yeni maliyet fonksiyonu 22.588239682843643\n",
            "Yeni teta değerleri  :  -10.926043601834769 83.03435088188196 98.62722834605285\n",
            "Yeni maliyet fonksiyonu 22.536940856045305\n",
            "Yeni teta değerleri  :  -10.959082094930823 83.01710057507584 98.62432835538458\n",
            "Yeni maliyet fonksiyonu 22.488395715537084\n",
            "Yeni teta değerleri  :  -10.991058755848188 82.99999622028714 98.62143795747528\n",
            "Yeni maliyet fonksiyonu 22.44243866149386\n"
          ]
        },
        {
          "output_type": "execute_result",
          "data": {
            "text/plain": [
              "<function matplotlib.pyplot.show(*args, **kw)>"
            ]
          },
          "metadata": {},
          "execution_count": 9
        },
        {
          "output_type": "display_data",
          "data": {
            "text/plain": [
              "<Figure size 432x288 with 1 Axes>"
            ],
            "image/png": "[encoded data removed]"
          },
          "metadata": {
            "needs_background": "light"
          }
        }
      ],
      "source": [
        "graph = []\n",
        "for i in range(150):\n",
        "    cost = cost_function()\n",
        "    gradient_descent()\n",
        "    print(\"Yeni maliyet fonksiyonu\" , cost)\n",
        "    graph.append(cost)\n",
        "plt.scatter(x = range(len(graph)) , y = graph  , color = 'green')\n",
        "plt.xlabel = \"Adım\"\n",
        "plt.ylabel = \"Maliyet\"\n",
        "plt.title = \"Maliyet Fonksiyonu Grafiği 20 Adım İçin\"\n",
        "plt.show"
      ]
    },
    {
      "cell_type": "markdown",
      "source": [
        "Görüldüğü üzere Maliyet Fonksiyonu 90. iterasyondan sonra daha düşük ivme ile azalmaya başlamıştır.Algoritma yeteri kadar adımda çalıştırılmadığı için global minimum noktası tespit edilememiştir."
      ],
      "metadata": {
        "id": "HOB1jVwjz5kk"
      }
    },
    {
      "cell_type": "markdown",
      "source": [
        "Adım 3: Yapılan öğrenme sonrası veriler üzerinde denemeler."
      ],
      "metadata": {
        "id": "uBIx075E2uiz"
      }
    },
    {
      "cell_type": "code",
      "source": [
        "for i in range (150,200):\n",
        "  print(i,\"inci örnek için hata oranı %\",abs(data.values[i][2] - prediction(data.values[i][0],data.values[i][1]))/data.values[i][2])"
      ],
      "metadata": {
        "colab": {
          "base_uri": "https://localhost:8080/"
        },
        "id": "4H3yk9FT0jEb",
        "outputId": "6d78a7b1-15b8-4eee-95e8-17c0d094e759"
      },
      "execution_count": null,
      "outputs": [
        {
          "output_type": "stream",
          "name": "stdout",
          "text": [
            "150 inci örnek için hata oranı % 69.96449921048185\n",
            "151 inci örnek için hata oranı % 88.83401254124624\n",
            "152 inci örnek için hata oranı % 166.68816822750634\n",
            "153 inci örnek için hata oranı % 71.90346940715106\n",
            "154 inci örnek için hata oranı % 226.95361884180906\n",
            "155 inci örnek için hata oranı % 272.71589688896665\n",
            "156 inci örnek için hata oranı % 177.6961900043717\n",
            "157 inci örnek için hata oranı % 128.05489360403814\n",
            "158 inci örnek için hata oranı % 198.41861398532265\n",
            "159 inci örnek için hata oranı % 36.664049837775046\n",
            "160 inci örnek için hata oranı % 23.616056167335554\n",
            "161 inci örnek için hata oranı % 24.346551113240128\n",
            "162 inci örnek için hata oranı % 86.35247404831749\n",
            "163 inci örnek için hata oranı % 10.151895735126692\n",
            "164 inci örnek için hata oranı % 45.51952832382221\n",
            "165 inci örnek için hata oranı % 66.2179940386148\n",
            "166 inci örnek için hata oranı % 157.90599746486498\n",
            "167 inci örnek için hata oranı % 42.93116033974485\n",
            "168 inci örnek için hata oranı % 58.78189021409246\n",
            "169 inci örnek için hata oranı % 97.66511349799335\n",
            "170 inci örnek için hata oranı % 67.11160658661083\n",
            "171 inci örnek için hata oranı % 42.28766852087156\n",
            "172 inci örnek için hata oranı % 128.2574397237314\n",
            "173 inci örnek için hata oranı % 121.69926571256934\n",
            "174 inci örnek için hata oranı % 48.4056012993028\n",
            "175 inci örnek için hata oranı % 126.42393868247113\n",
            "176 inci örnek için hata oranı % 5.1240823443006835\n",
            "177 inci örnek için hata oranı % 121.76304358063229\n",
            "178 inci örnek için hata oranı % 7.7272766325833855\n",
            "179 inci örnek için hata oranı % 117.3503110858113\n",
            "180 inci örnek için hata oranı % 84.72175222237648\n",
            "181 inci örnek için hata oranı % 44.86813347648257\n",
            "182 inci örnek için hata oranı % 43.790289874235306\n",
            "183 inci örnek için hata oranı % 522.8702879590809\n",
            "184 inci örnek için hata oranı % 74.94198673819916\n",
            "185 inci örnek için hata oranı % 100.28773635593373\n",
            "186 inci örnek için hata oranı % 115.28621005413996\n",
            "187 inci örnek için hata oranı % 7.516197050067892\n",
            "188 inci örnek için hata oranı % 62.621727128725915\n",
            "189 inci örnek için hata oranı % 24.84496074188965\n",
            "190 inci örnek için hata oranı % 65.20056872514942\n",
            "191 inci örnek için hata oranı % 403.80893696356475\n",
            "192 inci örnek için hata oranı % 11.193720298337992\n",
            "193 inci örnek için hata oranı % 28.694106619265717\n",
            "194 inci örnek için hata oranı % 275.8790348256797\n",
            "195 inci örnek için hata oranı % 82.83778485566351\n",
            "196 inci örnek için hata oranı % 3.4372416119785316\n",
            "197 inci örnek için hata oranı % 16.071700690089827\n",
            "198 inci örnek için hata oranı % 63.368750666732105\n",
            "199 inci örnek için hata oranı % 119.08063389557041\n"
          ]
        }
      ]
    },
    {
      "cell_type": "markdown",
      "source": [
        "Sonuç\n",
        "\n",
        "Gradient Descent Algoritması her çalıştığında maliyet fonksiyonu ilk başlarda olumlu yönde hızlı bir eğilim göstermiştir fakat öğrenme sonrası yapılan tahminlerin hata oranı pek kabul edilebilir değildir."
      ],
      "metadata": {
        "id": "Xk1icIoN11M9"
      }
    }
  ],
  "metadata": {
    "kernelspec": {
      "display_name": "Python 3.11.0 64-bit",
      "language": "python",
      "name": "python3"
    },
    "language_info": {
      "codemirror_mode": {
        "name": "ipython",
        "version": 3
      },
      "file_extension": ".py",
      "mimetype": "text/x-python",
      "name": "python",
      "nbconvert_exporter": "python",
      "pygments_lexer": "ipython3",
      "version": "3.11.0"
    },
    "orig_nbformat": 4,
    "vscode": {
      "interpreter": {
        "hash": "557329a2835564ac4bf9135951b6138d6314c4053862356910294b81eb71ce1e"
      }
    },
    "colab": {
      "provenance": [],
      "include_colab_link": true
    }
  },
  "nbformat": 4,
  "nbformat_minor": 0
}